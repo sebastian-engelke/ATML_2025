{
 "cells": [
  {
   "attachments": {},
   "cell_type": "markdown",
   "metadata": {},
   "source": [
    "# Reusing Python Code\n",
    "\n",
    "When you write \"universal\" python code like functions and class definitions, you might want to reuse the same bit of code in a different file, notebook, or project.\n",
    "\n",
    "Writing reusable code is a very useful habit (at least in the long run) and highly recommended!\n",
    "\n",
    "Below are a few different methods how you can easily reuse the same piece of code in different locations.\n",
    "\n",
    "TLDR: For longer class definitions and reusable functions, we recommend modules. Small things can also be copy-pasted around."
   ]
  },
  {
   "attachments": {},
   "cell_type": "markdown",
   "metadata": {},
   "source": [
    "### 1. Copy-Paste the Code"
   ]
  },
  {
   "cell_type": "markdown",
   "metadata": {},
   "source": [
    "\n",
    "The simplest way to reuse code is to just copy-paste a class definition from one notebook to another.\n",
    "\n",
    "Pros:\n",
    "- Very simple\n",
    "- Easy to modify the reused code\n",
    "- Notebooks/scripts will be self-contained\n",
    "\n",
    "Cons:\n",
    "- Bloated notebooks (readers might have to scroll past long class definitions)\n",
    "- Changes have to be applied to every copy of the reused code\n",
    "- Hard to test code in an isolated fashion\n",
    "\n",
    "Below is the `LinearWorld` code as an example for method.\n"
   ]
  },
  {
   "cell_type": "code",
   "execution_count": 10,
   "metadata": {},
   "outputs": [],
   "source": [
    "LEFT = 1\n",
    "RIGHT = 2\n",
    "\n",
    "class LinearWorldCopy:\n",
    "    def __init__(self, length):\n",
    "        # Store length of world\n",
    "        self.length = length\n",
    "        \n",
    "        # Initialize state of world in the middle\n",
    "        self.pos = length // 2\n",
    "    \n",
    "    def step(self, action):\n",
    "        \"\"\"\n",
    "        Perform an action (going left or right)\n",
    "        \"\"\"\n",
    "        # Compute new state\n",
    "        if self.pos == 0:\n",
    "            self.pos += 1\n",
    "        elif self.pos == self.length - 1:\n",
    "            self.pos -= 1\n",
    "        elif action == LEFT:\n",
    "            self.pos -= 1\n",
    "        elif action == RIGHT:\n",
    "            self.pos += 1\n",
    "        else:\n",
    "            raise Exception('Invalid action!')\n",
    "\n",
    "        # Compute reward\n",
    "        if self.pos == 0:\n",
    "            reward = 1\n",
    "        elif self.pos == self.length - 1:\n",
    "            reward = 1\n",
    "        else:\n",
    "            reward = 0\n",
    "        \n",
    "        # Return state and reward\n",
    "        return self.pos, reward\n",
    "    \n",
    "    def reset(self):\n",
    "        \"\"\"\n",
    "        Reset the position to the middle\n",
    "        \"\"\"\n",
    "        self.pos = self.length // 2\n",
    "    \n",
    "    def showWorld(self):\n",
    "        \"\"\"\n",
    "        Print a representation of the linear world\n",
    "        \"\"\"\n",
    "        # Start with an empty string\n",
    "        text = ''\n",
    "        \n",
    "        # Add \"_\" for every empty spot, \"X\" for the player\n",
    "        for i in range(self.length):\n",
    "            if i == self.pos:\n",
    "                text = text + 'X '\n",
    "            else:\n",
    "                text = text + '_ '\n",
    "        print(text)\n",
    "    \n",
    "    def __str__(self):\n",
    "        # (!) Advanced concept:\n",
    "        # Custom string-conversion (used e.g. by `print()`)\n",
    "        \n",
    "        # Start with an empty string\n",
    "        text = ''\n",
    "        \n",
    "        # Add \"_\" for every empty spot, \"X\" for the player\n",
    "        for i in range(self.length):\n",
    "            if i == self.pos:\n",
    "                text = text + 'X '\n",
    "            else:\n",
    "                text = text + '_ '\n",
    "        return text\n"
   ]
  },
  {
   "cell_type": "code",
   "execution_count": 11,
   "metadata": {},
   "outputs": [
    {
     "name": "stdout",
     "output_type": "stream",
     "text": [
      "_ _ X _ _ _ _ _ _ _ _ _ _ \n"
     ]
    }
   ],
   "source": [
    "lw = LinearWorldCopy(13)\n",
    "\n",
    "lw.step(LEFT)\n",
    "lw.step(LEFT)\n",
    "lw.step(LEFT)\n",
    "lw.step(LEFT)\n",
    "\n",
    "print(lw)"
   ]
  },
  {
   "attachments": {},
   "cell_type": "markdown",
   "metadata": {},
   "source": [
    "### 2. Write a module"
   ]
  },
  {
   "attachments": {},
   "cell_type": "markdown",
   "metadata": {},
   "source": [
    "A python module is simply a text file with filname ending in `.py`, containing python code.\n",
    "\n",
    "Ideally, this code should consist only of class definitions, functions, and (useful) variables, and not have any side-effects.\n",
    "\n",
    "Small test scripts etc. can be put inside the following `if` block ([details](https://docs.python.org/3/library/__main__.html)):\n",
    "``` python\n",
    "if __name__ == '__main__':\n",
    "    # This code is only executed if the module is executed as script\n",
    "    # Not if the module is imported from inside another file\n",
    "```\n",
    "\n",
    "Pros:\n",
    "- Changes affect all uses of the code\n",
    "- Very simple (if you are used to writing code outside of notebooks)\n",
    "- General classes, functions etc. are separated from individual applications\n",
    "- Modules are easier to track using git (compared to notebooks)\n",
    "\n",
    "Cons\n",
    "- Changes affect all uses of the code\n",
    "- Notebooks are not self-contained\n",
    "- After changes to the module, the Jupyter-Kernel needs to be restarted/the module needs to be explicitly reloaded\n",
    "\n",
    "Below is an example of this method using the module `linearworld.py`."
   ]
  },
  {
   "cell_type": "code",
   "execution_count": null,
   "metadata": {},
   "outputs": [
    {
     "name": "stdout",
     "output_type": "stream",
     "text": [
      "_ _ X _ _ \n",
      "X _ _ _ _ \n",
      "Last reward: 1\n"
     ]
    }
   ],
   "source": [
    "# Module files in the same folder can be imported just like pip-installed modules\n",
    "# Here, the file `./linearworld.py` is imported\n",
    "import linearworld as lw_module\n",
    "\n",
    "# Use classes, variables from the module\n",
    "lw = lw_module.LinearWorld(5)\n",
    "print(lw)\n",
    "\n",
    "lw.step(lw_module.LEFT)\n",
    "(_, reward) = lw.step(lw_module.LEFT)\n",
    "\n",
    "print(lw)\n",
    "print('Last reward:', reward)\n"
   ]
  },
  {
   "attachments": {},
   "cell_type": "markdown",
   "metadata": {},
   "source": [
    "### 3. Import code from a different Jupyter notebook"
   ]
  },
  {
   "attachments": {},
   "cell_type": "markdown",
   "metadata": {},
   "source": [
    "\n",
    "You can execute all the code from another notebook using the following \"magic\" command:\n",
    "\n",
    "```\n",
    "%run NAME_OF_NOTEBOOK.ipynb\n",
    "```\n",
    "\n",
    "This will have the desired effect of defining functions and methods, but also execute all other code in the notebook.\n",
    "\n",
    "Pros\n",
    "- No duplicated code\n",
    "- No need to change the original implementation (if it is in a notebook)\n",
    "\n",
    "Cons\n",
    "- Runs the entire notebook\n",
    "- Impossible to use from normal script files, other modules\n",
    "- Dedicated class/function notebooks introduce unnecessary complexity compared to modules\n"
   ]
  },
  {
   "cell_type": "code",
   "execution_count": null,
   "metadata": {},
   "outputs": [
    {
     "name": "stdout",
     "output_type": "stream",
     "text": [
      "7\n",
      "3\n",
      "New state: 5\n",
      "Reward: 0\n",
      "New state: 4\n",
      "Reward: 0\n",
      "_ _ _ _ X _ _ \n",
      "11\n",
      "49\n"
     ]
    }
   ],
   "source": [
    "%run linearWorld_solution.ipynb"
   ]
  },
  {
   "cell_type": "code",
   "execution_count": 14,
   "metadata": {},
   "outputs": [
    {
     "name": "stdout",
     "output_type": "stream",
     "text": [
      "_ _ _ _ _ X _ \n",
      "_ _ _ X _ _ _ \n"
     ]
    }
   ],
   "source": [
    "# `lw` is already defined in the other notebook\n",
    "print(lw)\n",
    "\n",
    "# we can also use the `LinearWorld` class\n",
    "lw2 = LinearWorld(7)\n",
    "print(lw2)"
   ]
  },
  {
   "attachments": {},
   "cell_type": "markdown",
   "metadata": {},
   "source": [
    "An alternative way to source notebooks in a \"module-like\" fashion is provided e.g. by the module [`npimporter`](https://github.com/grst/nbimporter), but even the author of the project recommends using normal modules."
   ]
  },
  {
   "attachments": {},
   "cell_type": "markdown",
   "metadata": {},
   "source": [
    "### 4. Write a package"
   ]
  },
  {
   "cell_type": "markdown",
   "metadata": {},
   "source": [
    "\n",
    "If the amount of code you want to reuse is very large or you want to make your code available through tools like `pip`, you can write a package.\n",
    "\n",
    "We will not do that here, but the links below (or a quick google search) can get you started.\n",
    "\n",
    "https://packaging.python.org/en/latest/tutorials/packaging-projects/\n",
    "\n",
    "https://www.pythoncentral.io/how-to-create-a-python-package/\n"
   ]
  }
 ],
 "metadata": {
  "kernelspec": {
   "display_name": ".venv",
   "language": "python",
   "name": "python3"
  },
  "language_info": {
   "codemirror_mode": {
    "name": "ipython",
    "version": 3
   },
   "file_extension": ".py",
   "mimetype": "text/x-python",
   "name": "python",
   "nbconvert_exporter": "python",
   "pygments_lexer": "ipython3",
   "version": "3.12.2"
  },
  "orig_nbformat": 4
 },
 "nbformat": 4,
 "nbformat_minor": 2
}
