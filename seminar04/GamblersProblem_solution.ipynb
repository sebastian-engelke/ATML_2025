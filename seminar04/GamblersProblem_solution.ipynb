{
 "cells": [
  {
   "cell_type": "markdown",
   "id": "c9f507cc",
   "metadata": {},
   "source": [
    "# Gambler's problem (Dynamic programming)"
   ]
  },
  {
   "cell_type": "code",
   "execution_count": 1,
   "id": "6df8844d",
   "metadata": {},
   "outputs": [],
   "source": [
    "# Some useful libraries\n",
    "import numpy as np\n",
    "import matplotlib.pyplot as plt"
   ]
  },
  {
   "cell_type": "markdown",
   "id": "e2f87b2c",
   "metadata": {},
   "source": [
    "## 1. Introduction and Setup"
   ]
  },
  {
   "attachments": {},
   "cell_type": "markdown",
   "id": "6a765d1f",
   "metadata": {},
   "source": [
    "*(Based on Example 4.3 in Sutton & Barto)*\n",
    "\n",
    "A gambler has the opportunity to make bets on the outcomes of a sequence of coin flips. If the coin comes up heads, he wins as many dollars as he has staked on that flip; if it is tails, he loses his stake.\n",
    "The coin has a probability of $p_h = 0.4$ of coming up heads.\n",
    "The player starts with some integer amount of money between $1 and $99.\n",
    "\n",
    "The game ends when the gambler wins by reaching his goal of $100, or loses by running out of money.\n",
    "On each flip, the gambler must decide what portion of his capital to stake, a positive integer number of dollars.\n",
    "The player cannot cash out, he must play until he wins or loses.\n",
    "Since there is only a total of $100 at the table, the gambler cannot place a bet that would cause him to have more than $100 after a win.\n",
    "This problem can be formulated as an undiscounted, episodic, finite MDP. "
   ]
  },
  {
   "attachments": {},
   "cell_type": "markdown",
   "id": "4993fa34",
   "metadata": {},
   "source": [
    "Identify the state-space, possible actions (per state), and reward/transition probabilities.\n",
    "\n",
    "State-space: $ s \\in S$ with\n",
    "$$S = \\{0, 1, ..., 100\\} $$\n",
    "\n",
    "Possible actions in state $s$: $a \\in A(s)$ with\n",
    "$$A(s) = \\{1, ..., \\min(s, 100-s)\\} $$\n",
    "\n",
    "Rewards/transition probabilites for the next state $s'$:\n",
    "$$ p(a+s|s, a) = 0.4 $$\n",
    "$$ p(a-s|s, a) = 0.6 $$\n",
    "\n",
    "For the reward, if $s' = 100$, then $r = 1$, else $r = 0$.\n"
   ]
  },
  {
   "attachments": {},
   "cell_type": "markdown",
   "id": "335e5d83",
   "metadata": {},
   "source": [
    "Assign the values mentioned in the description to the constants below. (*Sidenote: in Python, there are no constants, but by convention, we use all caps for variables that are not supposed to be changed.*)"
   ]
  },
  {
   "cell_type": "code",
   "execution_count": 2,
   "id": "b58b0822",
   "metadata": {},
   "outputs": [],
   "source": [
    "# Money goal to reach\n",
    "MAX_MONEY = 100\n",
    "\n",
    "# Possible values of probability of the coin coming up heads\n",
    "P_HEADS =  0.4\n",
    "\n",
    "# Small number determining the accuracy of policy evaluation's estimation\n",
    "THETA = 1e-15\n",
    "\n",
    "# Discount factor (can be 1, since this is an episodic task)\n",
    "GAMMA = 1\n",
    "\n",
    "# A list/array of all possible states\n",
    "STATES = np.arange(MAX_MONEY + 1)"
   ]
  },
  {
   "cell_type": "markdown",
   "id": "9ddcc2d2",
   "metadata": {},
   "source": [
    "## 2. Policy Evaluation"
   ]
  },
  {
   "cell_type": "markdown",
   "id": "2283817d",
   "metadata": {},
   "source": [
    "In this section we evaluate a given policy $\\pi$ by computing the state-value function $v_{\\pi}$.\n",
    "\n",
    "Define the policy you want to evaluate as a list/tuple/array `policy` of adequate length, where `policy[s]` is a list/tuple/array of probabilities for each possible actions in state `s`.\n",
    "Things to be aware of:\n",
    "- The terminal states might be easier to handle separately at the beginning of your loop\n",
    "- The first action in other states is to bet `1` dollar, betting `0` is impossible. Be careful about off-by-one errors!\n",
    "\n",
    "Initialize the value function as an list/tuple/array `values` of adequate length, where `values[s]` is the value of state `s`. Make sure that terminal states have value zero."
   ]
  },
  {
   "cell_type": "code",
   "execution_count": 3,
   "id": "c97da339",
   "metadata": {},
   "outputs": [],
   "source": [
    "# Define a deterministic policy which we convert to a random policy below\n",
    "det_policy = [min(100, s, MAX_MONEY - s) for s in STATES]\n",
    "\n",
    "# Start with an empty policy and add an entry for each state\n",
    "policy = []\n",
    "for s in STATES:\n",
    "    # In the terminal states, no actions are possible\n",
    "    if s == 0 or s == MAX_MONEY:\n",
    "        policy.append([])\n",
    "        continue\n",
    "    \n",
    "    # Start with all 0 and add 1 to the one action we want to take\n",
    "    action_probs = [0.0] * min(s, MAX_MONEY - s)\n",
    "    action_probs[det_policy[s] - 1] = 1\n",
    "\n",
    "    policy.append(action_probs)\n",
    "\n",
    "# Initialize all values as 0\n",
    "values = [0.0] * (MAX_MONEY + 1)"
   ]
  },
  {
   "cell_type": "markdown",
   "id": "d7463306",
   "metadata": {},
   "source": [
    "First, we implement a helper function that evaluates an action `a` for a given state `s`, using the current value function `current_values`."
   ]
  },
  {
   "cell_type": "code",
   "execution_count": 4,
   "id": "4a6169cd",
   "metadata": {},
   "outputs": [],
   "source": [
    "def evalAction(s, a, current_values):\n",
    "    # If we are already in a terminal state, return 0\n",
    "    if s == 0 or s == MAX_MONEY:\n",
    "        return 0\n",
    "    \n",
    "    # Check that s+a and s-a are valid states (optional)\n",
    "    if s + a > MAX_MONEY or s - a < 0:\n",
    "        raise Exception('Invalid Action')\n",
    "\n",
    "    # Compute and return the expected reward + value of the next state\n",
    "    expected_reward = 0\n",
    "    expected_state_value = 0\n",
    "\n",
    "    # coin comes up head\n",
    "    expected_state_value += P_HEADS * current_values[s + a]\n",
    "\n",
    "    if s + a == MAX_MONEY:\n",
    "        expected_reward += P_HEADS * 1\n",
    "\n",
    "    # coin comes up tails\n",
    "    expected_state_value += (1 - P_HEADS) * current_values[s - a]\n",
    "\n",
    "    new_value = expected_reward + GAMMA * expected_state_value\n",
    "    return new_value\n",
    "    "
   ]
  },
  {
   "cell_type": "markdown",
   "id": "4657ef6b",
   "metadata": {},
   "source": [
    "Implement iterative policy evaluation. You can follow the pseudo-code on page 75 in Sutton & Barto."
   ]
  },
  {
   "cell_type": "code",
   "execution_count": 5,
   "id": "5b7b870a",
   "metadata": {},
   "outputs": [],
   "source": [
    "# Loop:\n",
    "    # delta <- 0\n",
    "\n",
    "    # Loop for each s in S:\n",
    "        # v <- V(s)\n",
    "\n",
    "        # V(s) <- sum_a ...\n",
    "        # (this part might require multiple lines of code)\n",
    "\n",
    "        # delta <- max(delta, |v - V(s)|)\n",
    "\n",
    "    # until delta < THETA"
   ]
  },
  {
   "cell_type": "code",
   "execution_count": 6,
   "id": "bd95a8d5",
   "metadata": {},
   "outputs": [
    {
     "name": "stdout",
     "output_type": "stream",
     "text": [
      "[0, 0.002065624776544145, 0.005164061941360755, 0.00922547106779385, 0.012910154853401887, 0.017385398981324258, 0.023063677669484722, 0.027814113056270507, 0.03227538713350472, 0.03768507279536642, 0.04346349745331064, 0.05035446998069337, 0.057659194173711806, 0.0652393748659265, 0.06953528264067632, 0.07443123938879458, 0.08068846783376232, 0.08661104367721985, 0.09421268198841604, 0.10314362491955592, 0.10865874363327675, 0.1159666262063319, 0.12588617495173357, 0.13357997572379918, 0.1441479854342795, 0.16000000000000003, 0.16309843716481648, 0.16774609291204115, 0.17383820660169086, 0.17936523228010284, 0.18607809847198642, 0.1945955165042271, 0.2017211695844058, 0.20841308070025744, 0.2165276091930496, 0.22519524617996606, 0.23553170497104015, 0.2464887912605677, 0.2578590622988899, 0.26430292396101457, 0.27164685908319186, 0.2810327017506435, 0.2899165655158297, 0.30131902298262414, 0.31471543737933394, 0.3229881154499151, 0.3339499393094979, 0.3488292624276004, 0.3603699635856987, 0.3762219781514193, 0.4, 0.40309843716481647, 0.40774609291204117, 0.41383820660169085, 0.41936523228010286, 0.4260780984719864, 0.4345955165042271, 0.4417211695844058, 0.4484130807002574, 0.45652760919304963, 0.4651952461799661, 0.47553170497104014, 0.4864887912605677, 0.4978590622988899, 0.5043029239610145, 0.5116468590831919, 0.5210327017506435, 0.5299165655158298, 0.5413190229826241, 0.5547154373793339, 0.5629881154499151, 0.5739499393094979, 0.5888292624276004, 0.6003699635856987, 0.6162219781514192, 0.64, 0.6446476557472247, 0.6516191393680617, 0.6607573099025363, 0.6690478484201545, 0.6791171477079796, 0.6918932747563407, 0.7025817543766086, 0.7126196210503861, 0.7247914137895746, 0.7377928692699491, 0.7532975574565602, 0.7697331868908515, 0.7867885934483348, 0.7964543859415218, 0.8074702886247878, 0.8215490526259652, 0.8348748482737447, 0.8519785344739361, 0.8720731560690009, 0.8844821731748727, 0.9009249089642468, 0.9232438936414006, 0.9405549453785481, 0.9643329672271289, 0]\n"
     ]
    }
   ],
   "source": [
    "while True:\n",
    "    # Set delta to 0\n",
    "    delta = 0\n",
    "\n",
    "    # Update value function for each state\n",
    "    for s in STATES:\n",
    "        old_state_value = values[s]\n",
    "\n",
    "        # Get the action probabilities for the current state\n",
    "        action_probs = policy[s]\n",
    "        \n",
    "        # Compute expected reward and value of the next state\n",
    "        new_state_value = 0\n",
    "        for a in range(1, min(s, MAX_MONEY - s) + 1):\n",
    "            new_state_value += action_probs[a - 1] * evalAction(s, a, values)\n",
    "        values[s] = new_state_value\n",
    "\n",
    "        # Update delta\n",
    "        delta = max(delta, abs(old_state_value - values[s]))\n",
    "\n",
    "    # Break if the value function converged\n",
    "    if delta < THETA:\n",
    "        break\n",
    "\n",
    "print(values)"
   ]
  },
  {
   "cell_type": "markdown",
   "id": "7732130e",
   "metadata": {},
   "source": [
    "Plot the value function you computed above.\n",
    "Depending on your implementation, it might look nicer to ignore the terminal states (`0`, `MAX_MONEY`)."
   ]
  },
  {
   "cell_type": "code",
   "execution_count": 7,
   "id": "134baef1",
   "metadata": {},
   "outputs": [
    {
     "data": {
      "image/png": "[encoded data removed]",
      "text/plain": [
       "<Figure size 640x480 with 1 Axes>"
      ]
     },
     "metadata": {},
     "output_type": "display_data"
    }
   ],
   "source": [
    "plt.figure()\n",
    "plt.plot(STATES[1:-1], values[1:-1])\n",
    "plt.xlabel('Capital')\n",
    "plt.ylabel('Value estimates')\n",
    "plt.show()"
   ]
  },
  {
   "cell_type": "markdown",
   "id": "2436c2b4",
   "metadata": {},
   "source": [
    "Does the value function look as expected?\n",
    "How does the value function change for different policies, probabilities (`P_HEADS`), and discount factors (`GAMMA`)?"
   ]
  },
  {
   "cell_type": "markdown",
   "id": "cfb08edb",
   "metadata": {},
   "source": [
    "## 3. Policy Iteration"
   ]
  },
  {
   "cell_type": "markdown",
   "id": "bd3540ba",
   "metadata": {},
   "source": [
    "In this section, we compute the optimal policy and value function using policy iteration.\n",
    "We implement the policy evaluation and improvement steps as individual functions, which we then call alternately for the actual policy iteration.\n"
   ]
  },
  {
   "cell_type": "markdown",
   "id": "074c8373",
   "metadata": {},
   "source": [
    "\n",
    "Implement the policy evaluation step. You can use your code from above, but need to wrap it in a function that takes the current policy as an argument."
   ]
  },
  {
   "cell_type": "code",
   "execution_count": 8,
   "id": "eb19143e",
   "metadata": {},
   "outputs": [],
   "source": [
    "def policyEvaluation(policy):\n",
    "    # Initialize all values as 0\n",
    "    values = [0.0] * (MAX_MONEY + 1)\n",
    "\n",
    "    while True:\n",
    "        # Set delta to 0\n",
    "        delta = 0\n",
    "\n",
    "        # Update value function for each state\n",
    "        for s in STATES:\n",
    "            old_state_value = values[s]\n",
    "\n",
    "            # Get the action probabilities for the current state\n",
    "            action_probs = policy[s]\n",
    "            \n",
    "            # Compute expected reward and value of the next state\n",
    "            new_state_value = 0\n",
    "            for a in range(1, min(s, MAX_MONEY - s) + 1):\n",
    "                new_state_value += action_probs[a - 1] * evalAction(s, a, values)\n",
    "            values[s] = new_state_value\n",
    "\n",
    "            # Update delta\n",
    "            delta = max(delta, abs(old_state_value - values[s]))\n",
    "\n",
    "        # Break if the value function converged\n",
    "        if delta < THETA:\n",
    "            break\n",
    "\n",
    "    return values\n"
   ]
  },
  {
   "cell_type": "markdown",
   "id": "ef44c686",
   "metadata": {},
   "source": [
    "Implement the policy improvement step as a function that takes the current value function as an argument and returns the new (greedy) policy.\n",
    "\n",
    "*Note: In this particular example, there are multiple optimal policies. Your results might look nicer if you break ties (or almost ties) in favor of lower stakes.*"
   ]
  },
  {
   "cell_type": "code",
   "execution_count": 9,
   "id": "6ea9ebb9",
   "metadata": {},
   "outputs": [],
   "source": [
    "def policyImprovement(values):\n",
    "    policy = []\n",
    "\n",
    "    for s in STATES:\n",
    "        # If we are in a terminal state, no actions are possible\n",
    "        if s == 0 or s == MAX_MONEY:\n",
    "            policy.append(tuple())\n",
    "            continue\n",
    "        \n",
    "        # Start with all 0 and add 1 to the best action\n",
    "        action_probs = [0.0] * min(s, MAX_MONEY - s)\n",
    "\n",
    "        # Compute the value of each action\n",
    "        possible_actions = range(1, min(s, MAX_MONEY - s) + 1)\n",
    "        action_values = [evalAction(s, a, values) for a in possible_actions]\n",
    "\n",
    "        # Set the index of the best action to 1\n",
    "        best_action_index = np.argmax(action_values)\n",
    "        action_probs[best_action_index] = 1\n",
    "\n",
    "        # Add the action probabilities to the policy\n",
    "        policy.append(action_probs)\n",
    "\n",
    "    return policy"
   ]
  },
  {
   "cell_type": "markdown",
   "id": "26eefd8b",
   "metadata": {},
   "source": [
    "Implement policy iteration, using the functions you implemented above."
   ]
  },
  {
   "cell_type": "code",
   "execution_count": 10,
   "id": "96a74e77",
   "metadata": {},
   "outputs": [],
   "source": [
    "# Initialize policy\n",
    "\n",
    "# Use length `MAX_MONEY + 1` to include the terminal state\n",
    "det_policy = [1 for _ in STATES]\n",
    "\n",
    "policy = []\n",
    "\n",
    "for s in STATES:\n",
    "    if s == 0 or s == MAX_MONEY:\n",
    "        policy.append([])\n",
    "        continue\n",
    "    action_probs = [0.0] * min(s, MAX_MONEY - s)\n",
    "    action_probs[det_policy[s] - 1] = 1\n",
    "\n",
    "    policy.append(action_probs)\n",
    "\n",
    "# Initialize all values to 0\n",
    "values = np.zeros(MAX_MONEY + 1)"
   ]
  },
  {
   "cell_type": "code",
   "execution_count": 11,
   "id": "2ca3cb87",
   "metadata": {},
   "outputs": [],
   "source": [
    "while True:\n",
    "    # Policy evaluation\n",
    "    values = policyEvaluation(policy)\n",
    "\n",
    "    # Policy improvement\n",
    "    new_policy = policyImprovement(values)\n",
    "\n",
    "    # Check if policy has changed\n",
    "    if new_policy == policy:\n",
    "        break\n",
    "    \n",
    "    # Update policy\n",
    "    policy = new_policy\n",
    "    "
   ]
  },
  {
   "cell_type": "markdown",
   "id": "79ec83dd",
   "metadata": {},
   "source": [
    "Plot the optimal value function and the optimal policy."
   ]
  },
  {
   "cell_type": "code",
   "execution_count": 12,
   "id": "fbe92c3e",
   "metadata": {},
   "outputs": [],
   "source": [
    "# Convert the random policy representation to a deterministic policy for plotting.\n",
    "# It would be cleaner to keep placeholders for the terminal states in the policy!\n",
    "det_policy = [np.argmax(action_probs) + 1 for action_probs in policy[1:-1]]"
   ]
  },
  {
   "cell_type": "code",
   "execution_count": 13,
   "id": "346d7783",
   "metadata": {},
   "outputs": [
    {
     "data": {
      "image/png": "[encoded data removed]",
      "text/plain": [
       "<Figure size 640x480 with 1 Axes>"
      ]
     },
     "metadata": {},
     "output_type": "display_data"
    },
    {
     "data": {
      "image/png": "[encoded data removed]",
      "text/plain": [
       "<Figure size 640x480 with 1 Axes>"
      ]
     },
     "metadata": {},
     "output_type": "display_data"
    }
   ],
   "source": [
    "plt.figure()\n",
    "plt.plot(STATES[1:-1], values[1:-1])\n",
    "plt.title('Optimal value function')\n",
    "plt.xlabel('Capital')\n",
    "plt.ylabel('Value estimates')\n",
    "plt.show()\n",
    "\n",
    "plt.figure()\n",
    "plt.step(STATES[1:-1], det_policy)\n",
    "plt.title('(An) Optimal policy')\n",
    "plt.xlabel('Capital')\n",
    "plt.ylabel('Optimal policy')\n",
    "plt.show()"
   ]
  },
  {
   "cell_type": "markdown",
   "id": "9acebb1a",
   "metadata": {},
   "source": [
    "## 4. Value Iteration"
   ]
  },
  {
   "cell_type": "markdown",
   "id": "0f331fad",
   "metadata": {},
   "source": [
    "In this section we compute the optimal policy and value function using value iteration.\n",
    "Again, we follow the pseudo-code from Sutton & Barto (p. 83)."
   ]
  },
  {
   "cell_type": "code",
   "execution_count": 14,
   "id": "5f01b376",
   "metadata": {},
   "outputs": [],
   "source": [
    "# Initialize values\n",
    "\n",
    "# Loop:\n",
    "    # delta <- 0\n",
    "\n",
    "    # Loop for each s in S:\n",
    "        # v <- V(s)\n",
    "\n",
    "        # V(s) <- max_a sum_s' ...\n",
    "        # (this part might require multiple lines of code)\n",
    "\n",
    "        # delta <- max(delta, |v - V(s)|)\n",
    "\n",
    "    # until delta < THETA\n",
    "\n",
    "# Output a deterministic policy such that\n",
    "# policy[s] = argmax_a ...\n",
    "# (this part might require another loop over the states/actions)"
   ]
  },
  {
   "cell_type": "code",
   "execution_count": 15,
   "id": "7ec546c6",
   "metadata": {},
   "outputs": [],
   "source": [
    "# Initialize values to zero\n",
    "values = np.zeros(MAX_MONEY + 1)\n",
    "\n",
    "# Do value iteration\n",
    "while True:\n",
    "    delta = 0\n",
    "    \n",
    "    for state in STATES:\n",
    "        oldValue = values[state]\n",
    "\n",
    "        # Initialize best value\n",
    "        newValue = 0\n",
    "\n",
    "        # Loop for each action\n",
    "        actions = range(1, min(state, MAX_MONEY - state) + 1)\n",
    "        for action in actions:\n",
    "            # Compute the value of the action\n",
    "            value = evalAction(state, action, values)\n",
    "            \n",
    "            # Update newValue if better\n",
    "            newValue = max(value, newValue)\n",
    "\n",
    "        # Update value\n",
    "        values[state] = newValue\n",
    "\n",
    "        # Update delta\n",
    "        delta = max(delta, abs(oldValue - newValue))\n",
    "        \n",
    "    if delta < THETA:\n",
    "        break\n"
   ]
  },
  {
   "cell_type": "code",
   "execution_count": 16,
   "id": "14ddd8fd",
   "metadata": {},
   "outputs": [],
   "source": [
    "# Output an optimal deterministic policy\n",
    "policy = policyImprovement(values)"
   ]
  },
  {
   "cell_type": "markdown",
   "id": "bfb6fac9",
   "metadata": {},
   "source": [
    "Plot the optimal value function and the optimal policy."
   ]
  },
  {
   "cell_type": "code",
   "execution_count": 17,
   "id": "fa318215",
   "metadata": {},
   "outputs": [],
   "source": [
    "# Convert the random policy representation to a deterministic policy for plotting.\n",
    "# It would be cleaner to keep placeholders for the terminal states in the policy!\n",
    "det_policy = [np.argmax(action_probs) + 1 for action_probs in policy[1:-1]]"
   ]
  },
  {
   "cell_type": "code",
   "execution_count": 18,
   "id": "0950eb16",
   "metadata": {},
   "outputs": [
    {
     "data": {
      "image/png": "[encoded data removed]",
      "text/plain": [
       "<Figure size 640x480 with 1 Axes>"
      ]
     },
     "metadata": {},
     "output_type": "display_data"
    },
    {
     "data": {
      "image/png": "[encoded data removed]",
      "text/plain": [
       "<Figure size 640x480 with 1 Axes>"
      ]
     },
     "metadata": {},
     "output_type": "display_data"
    }
   ],
   "source": [
    "plt.figure()\n",
    "plt.plot(STATES[1:-1], values[1:-1])\n",
    "plt.title('Optimal value function')\n",
    "plt.show()\n",
    "\n",
    "plt.figure()\n",
    "plt.step(STATES[1:-1], det_policy)\n",
    "plt.title('(An) Optimal policy')\n",
    "plt.show()"
   ]
  },
  {
   "cell_type": "markdown",
   "id": "a2df9502",
   "metadata": {},
   "source": [
    "### 4.a Bonus"
   ]
  },
  {
   "attachments": {},
   "cell_type": "markdown",
   "id": "5781f4fd",
   "metadata": {},
   "source": [
    "Find and plot *all* optimal policies."
   ]
  },
  {
   "cell_type": "code",
   "execution_count": 19,
   "id": "a7832e2a",
   "metadata": {},
   "outputs": [],
   "source": [
    "# Tolerance for \"equal\" values\n",
    "TOL_OPTIMAL = THETA\n",
    "\n",
    "# We re-use the optimal value function found above\n",
    "\n",
    "# Make list of the optimal actions for each state\n",
    "# (easier to plot)\n",
    "optimal_actions = []\n",
    "\n",
    "# Loop for each state\n",
    "for state in STATES:\n",
    "    # If we are in a terminal state, do nothing\n",
    "    if state == 0 or state == MAX_MONEY:\n",
    "        policy.append([])\n",
    "        optimal_actions.append([])\n",
    "        continue\n",
    "\n",
    "    # Evaluate all actions\n",
    "    actions = range(1, min(state, MAX_MONEY - state) + 1)\n",
    "    action_value = [evalAction(state, action, values) for action in actions]\n",
    "    \n",
    "    # Find the optimal actions (up to tolerance)\n",
    "    best_value = np.max(action_value)\n",
    "    optimal_state_actions = [action for action, value in zip(actions, action_value) if abs(value - best_value) <= TOL_OPTIMAL]\n",
    "    optimal_actions.append(optimal_state_actions)"
   ]
  },
  {
   "cell_type": "code",
   "execution_count": 20,
   "id": "149fd573",
   "metadata": {},
   "outputs": [
    {
     "data": {
      "image/png": "[encoded data removed]",
      "text/plain": [
       "<Figure size 640x480 with 1 Axes>"
      ]
     },
     "metadata": {},
     "output_type": "display_data"
    }
   ],
   "source": [
    "# Create scatter plot with all optimal state/action pairs\n",
    "x = []\n",
    "y = []\n",
    "\n",
    "for state in STATES:\n",
    "    for action in optimal_actions[state]:\n",
    "        x.append(state)\n",
    "        y.append(action)\n",
    "        \n",
    "plt.figure()\n",
    "plt.scatter(x, y)\n",
    "plt.title('Optimal state-action pairs')\n",
    "plt.xlabel('Capital')\n",
    "plt.ylabel('Optimal actions')\n",
    "plt.show()\n"
   ]
  },
  {
   "attachments": {},
   "cell_type": "markdown",
   "id": "e6f4eca8",
   "metadata": {},
   "source": [
    "### 4.b Bonus 2"
   ]
  },
  {
   "attachments": {},
   "cell_type": "markdown",
   "id": "36049ea4",
   "metadata": {},
   "source": [
    "Ideas for further exploration:\n",
    "- How does the set of *all* optimal policies behave for different values of `MAX_MONEY`? *Hint: Powers of 2 are particularly interesting!*\n",
    "- Change the code above to allow bets which would cause the player to have more than $100 after a win. Does this change the optimal policy?"
   ]
  },
  {
   "cell_type": "markdown",
   "id": "bd367b22",
   "metadata": {},
   "source": [
    "Mathematical analysis of this problem is surprisingly difficult! See [this paper](https://arxiv.org/abs/2001.00102) for more details."
   ]
  }
 ],
 "metadata": {
  "kernelspec": {
   "display_name": ".venv",
   "language": "python",
   "name": "python3"
  },
  "language_info": {
   "codemirror_mode": {
    "name": "ipython",
    "version": 3
   },
   "file_extension": ".py",
   "mimetype": "text/x-python",
   "name": "python",
   "nbconvert_exporter": "python",
   "pygments_lexer": "ipython3",
   "version": "3.12.2"
  }
 },
 "nbformat": 4,
 "nbformat_minor": 5
}
