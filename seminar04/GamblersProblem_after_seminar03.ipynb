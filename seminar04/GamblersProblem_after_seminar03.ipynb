{
 "cells": [
  {
   "cell_type": "markdown",
   "id": "c9f507cc",
   "metadata": {},
   "source": [
    "# Gambler's problem (Dynamic programming)"
   ]
  },
  {
   "cell_type": "code",
   "execution_count": 22,
   "id": "6df8844d",
   "metadata": {},
   "outputs": [],
   "source": [
    "# Some useful libraries\n",
    "import numpy as np\n",
    "import matplotlib.pyplot as plt"
   ]
  },
  {
   "cell_type": "markdown",
   "id": "e2f87b2c",
   "metadata": {},
   "source": [
    "## 1. Introduction and Setup"
   ]
  },
  {
   "attachments": {},
   "cell_type": "markdown",
   "id": "6a765d1f",
   "metadata": {},
   "source": [
    "*(Based on Example 4.3 in Sutton & Barto)*\n",
    "\n",
    "A gambler has the opportunity to make bets on the outcomes of a sequence of coin flips. If the coin comes up heads, he wins as many dollars as he has staked on that flip; if it is tails, he loses his stake.\n",
    "The coin has a probability of $p_h = 0.4$ of coming up heads.\n",
    "The player starts with some integer amount of money between $1 and $99.\n",
    "\n",
    "The game ends when the gambler wins by reaching his goal of $100, or loses by running out of money.\n",
    "On each flip, the gambler must decide what portion of his capital to stake, a positive integer number of dollars.\n",
    "The player cannot cash out, he must play until he wins or loses.\n",
    "Since there is only a total of $100 at the table, the gambler cannot place a bet that would cause him to have more than $100 after a win.\n",
    "This problem can be formulated as an undiscounted, episodic, finite MDP. "
   ]
  },
  {
   "cell_type": "markdown",
   "id": "3c5db49d",
   "metadata": {},
   "source": [
    "Identify the state-space, possible actions (per state), and reward/transition probabilities.\n",
    "\n",
    "State-space: $ s \\in S$ with\n",
    "$$S = \\{0, 1, ..., 100\\} $$\n",
    "\n",
    "Possible actions in state $s$: $a \\in A(s)$ with\n",
    "$$A(s) = \\{1, ..., \\min(s, 100-s)\\} $$\n",
    "\n",
    "Rewards/transition probabilites for the next state $s'$:\n",
    "$$ p(a+s|s, a) = 0.4 $$\n",
    "$$ p(a-s|s, a) = 0.6 $$\n",
    "\n",
    "For the reward, if $s' = 100$, then $r = 1$, else $r = 0$.\n"
   ]
  },
  {
   "attachments": {},
   "cell_type": "markdown",
   "id": "335e5d83",
   "metadata": {},
   "source": [
    "Assign the values mentioned in the description to the constants below. (*Sidenote: in Python, there are no constants, but by convention, we use all caps for variables that are not supposed to be changed.*)"
   ]
  },
  {
   "cell_type": "code",
   "execution_count": 23,
   "id": "b58b0822",
   "metadata": {},
   "outputs": [],
   "source": [
    "# Money goal to reach\n",
    "MAX_MONEY = 100\n",
    "\n",
    "# Possible values of probability of the coin coming up heads\n",
    "P_HEADS =  0.4\n",
    "\n",
    "# Small number determining the accuracy of policy evaluation's estimation\n",
    "THETA = 1e-6\n",
    "\n",
    "# Discount factor (can be 1, since this is an episodic task)\n",
    "GAMMA = 1\n",
    "\n",
    "# A list/array of all possible states\n",
    "STATES = np.arange(MAX_MONEY + 1)"
   ]
  },
  {
   "attachments": {},
   "cell_type": "markdown",
   "id": "808b61d2",
   "metadata": {},
   "source": [
    "## 2. Policy Evaluation"
   ]
  },
  {
   "attachments": {},
   "cell_type": "markdown",
   "id": "558ec238",
   "metadata": {},
   "source": [
    "In this section we evaluate a given policy $\\pi$ by computing the state-value function $v_{\\pi}$.\n",
    "\n",
    "Define the policy you want to evaluate as a list/tuple/array `policy` of adequate length, where `policy[s]` is a list/tuple/array of probabilities for each possible actions in state `s`.\n",
    "Things to be aware of:\n",
    "- The terminal states might be easier to handle separately at the beginning of your loop\n",
    "- The first action in other states is to bet `1` dollar, betting `0` is impossible. Be careful about off-by-one errors!\n",
    "\n",
    "Initialize the value function as an list/tuple/array `values` of adequate length, where `values[s]` is the value of state `s`. Make sure that terminal states have value zero."
   ]
  },
  {
   "cell_type": "code",
   "execution_count": 24,
   "id": "f839c660",
   "metadata": {},
   "outputs": [],
   "source": [
    "# Define a deterministic policy which we convert to a random policy below\n",
    "det_policy = [min(100, s, MAX_MONEY - s) for s in STATES]\n",
    "\n",
    "# Start with an empty policy and add an entry for each state\n",
    "policy = []\n",
    "for s in STATES:\n",
    "    # In the terminal states, no actions are possible\n",
    "    if s == 0 or s == MAX_MONEY:\n",
    "        policy.append(tuple())\n",
    "        continue\n",
    "    \n",
    "    # Start with all 0 and add 1 to the one action we want to take\n",
    "    action_probs = [0.0] * min(s, MAX_MONEY - s)\n",
    "    action_probs[det_policy[s] - 1] = 1\n",
    "\n",
    "    policy.append(action_probs)\n",
    "\n",
    "# Initialize all values as 0\n",
    "values = [0.0] * (MAX_MONEY + 1)"
   ]
  },
  {
   "attachments": {},
   "cell_type": "markdown",
   "id": "4c2589ff",
   "metadata": {},
   "source": [
    "First, we implement a helper function that evaluates an action `a` for a given state `s`, using the current value function `currentValues`."
   ]
  },
  {
   "cell_type": "code",
   "execution_count": 25,
   "id": "5a1ef0ba",
   "metadata": {},
   "outputs": [],
   "source": [
    "def evalAction(s, a, currentValues):\n",
    "    # If we are already in a terminal state, return 0\n",
    "    if s == 0 or s == MAX_MONEY:\n",
    "        return 0\n",
    "    \n",
    "    # Check that s+a and s-a are valid states (optional)\n",
    "    if s + a > MAX_MONEY or s - a < 0:\n",
    "        raise Exception('Invalid Action')\n",
    "\n",
    "    # Compute and return the expected reward + value of the next state\n",
    "    expected_reward = 0\n",
    "    expected_state_value = 0\n",
    "\n",
    "    # coin comes up head\n",
    "    expected_state_value += P_HEADS * values[s + a]\n",
    "\n",
    "    if s + a == MAX_MONEY:\n",
    "        expected_reward += P_HEADS * 1\n",
    "\n",
    "    # coin comes up tails\n",
    "    expected_state_value += (1 - P_HEADS) * values[s - a]\n",
    "\n",
    "    new_value = expected_reward + GAMMA * expected_state_value\n",
    "    return new_value\n",
    "    "
   ]
  },
  {
   "attachments": {},
   "cell_type": "markdown",
   "id": "cf05c493",
   "metadata": {},
   "source": [
    "Implement iterative policy evaluation. You can follow the pseudo-code on page 75 in Sutton & Barto."
   ]
  },
  {
   "cell_type": "code",
   "execution_count": 26,
   "id": "2a833584",
   "metadata": {},
   "outputs": [],
   "source": [
    "# Loop:\n",
    "    # delta <- 0\n",
    "\n",
    "    # Loop for each s in S:\n",
    "        # v <- V(s)\n",
    "\n",
    "        # V(s) <- sum_a ...\n",
    "        # (this part might require multiple lines of code)\n",
    "\n",
    "        # delta <- max(delta, |v - V(s)|)\n",
    "\n",
    "    # until delta < THETA"
   ]
  },
  {
   "cell_type": "code",
   "execution_count": 27,
   "id": "2ddf49e2",
   "metadata": {},
   "outputs": [
    {
     "name": "stdout",
     "output_type": "stream",
     "text": [
      "[0, 0.0020656234668683703, 0.005164058667170925, 0.009225465218533324, 0.012910146667927311, 0.017385387958393537, 0.023063663046333307, 0.027814095421182475, 0.03227536666981828, 0.03768504890175616, 0.04346346989598384, 0.050354438054257, 0.05765915761583326, 0.06523937408012102, 0.06953527913112, 0.07443123277503615, 0.0806884572527095, 0.08661102934105369, 0.09421266283255421, 0.10314362444807264, 0.1086587396650217, 0.11596661760463221, 0.1258861746688436, 0.13357997056277934, 0.14414798233766762, 0.16000000000000003, 0.16309843520030257, 0.1677460880007564, 0.1738381978278, 0.17936522000189098, 0.18607808193759034, 0.19459549456949998, 0.201721167478672, 0.2084130743516257, 0.21652759769953256, 0.225195243799013, 0.23553170480130614, 0.24648878940260058, 0.2578590611201816, 0.26430291869668, 0.2716468491625542, 0.2810327004872032, 0.28991655861971954, 0.3013190228807837, 0.314715436672109, 0.32298810949753254, 0.33394993517183175, 0.34882926200326536, 0.36036996110309905, 0.37622197666185947, 0.4, 0.4030984352003026, 0.4077460880007564, 0.4138381978278, 0.41936522000189097, 0.42607808193759034, 0.4345954945695, 0.441721167478672, 0.4484130743516257, 0.45652759769953255, 0.465195243799013, 0.4755317048013062, 0.4864887894026006, 0.4978590611201816, 0.50430291869668, 0.5116468491625542, 0.5210327004872032, 0.5299165586197195, 0.5413190228807837, 0.554715436672109, 0.5629881094975325, 0.5739499351718318, 0.5888292620032654, 0.600369961103099, 0.6162219766618594, 0.64, 0.6446476528004539, 0.6516191320011346, 0.6607572967416999, 0.6690478446109754, 0.6791171462794079, 0.6918932736415604, 0.7025817512180079, 0.7126196202923218, 0.7247914137284702, 0.7377928656985195, 0.7532975572019592, 0.7697331859971157, 0.7867885916802724, 0.79645437804502, 0.8074702877676447, 0.8215490507308048, 0.8348748482370821, 0.8519785343211755, 0.8720731550081634, 0.8844821726605868, 0.9009249089422493, 0.9232438930048981, 0.9405549453653496, 0.9643329672192097, 0]\n"
     ]
    }
   ],
   "source": [
    "while True:\n",
    "    # Set delta to 0\n",
    "    delta = 0\n",
    "\n",
    "    # Update value function for each state\n",
    "    for s in STATES:\n",
    "        old_state_value = values[s]\n",
    "\n",
    "        # Get the action probabilities for the current state\n",
    "        action_probs = policy[s]\n",
    "        \n",
    "        # Compute expected reward and value of the next state\n",
    "        new_state_value = 0\n",
    "        for a in range(1, min(s, MAX_MONEY - s) + 1):\n",
    "            new_state_value += action_probs[a - 1] * evalAction(s, a, values)\n",
    "        values[s] = new_state_value\n",
    "\n",
    "        # Update delta\n",
    "        delta = max(delta, abs(old_state_value - values[s]))\n",
    "\n",
    "    # Break if the value function converged\n",
    "    if delta < THETA:\n",
    "        break\n",
    "\n",
    "print(values)"
   ]
  },
  {
   "attachments": {},
   "cell_type": "markdown",
   "id": "a127c3b7",
   "metadata": {},
   "source": [
    "Plot the value function you computed above.\n",
    "Depending on your implementation, it might look nicer to ignore the terminal states (`0`, `MAX_MONEY`)."
   ]
  },
  {
   "cell_type": "code",
   "execution_count": 28,
   "id": "3aa71539",
   "metadata": {},
   "outputs": [
    {
     "data": {
      "image/png": "[encoded data removed]",
      "text/plain": [
       "<Figure size 640x480 with 1 Axes>"
      ]
     },
     "metadata": {},
     "output_type": "display_data"
    }
   ],
   "source": [
    "plt.figure()\n",
    "plt.plot(STATES[1:-1], values[1:-1])\n",
    "plt.xlabel('Capital')\n",
    "plt.ylabel('Value estimates')\n",
    "plt.show()"
   ]
  },
  {
   "attachments": {},
   "cell_type": "markdown",
   "id": "611ca345",
   "metadata": {},
   "source": [
    "Does the value function look as expected?\n",
    "How does the value function change for different policies, probabilities (`P_HEADS`), and discount factors (`GAMMA`)?"
   ]
  },
  {
   "attachments": {},
   "cell_type": "markdown",
   "id": "8f0e5b61",
   "metadata": {},
   "source": [
    "## 3. Policy Iteration"
   ]
  },
  {
   "attachments": {},
   "cell_type": "markdown",
   "id": "e525645f",
   "metadata": {},
   "source": [
    "In this section, we compute the optimal policy and value function using policy iteration.\n",
    "We implement the policy evaluation and improvement steps as individual functions, which we then call alternately for the actual policy iteration.\n"
   ]
  },
  {
   "cell_type": "markdown",
   "id": "8b0e48df",
   "metadata": {},
   "source": [
    "\n",
    "Implement the policy evaluation step. You can use your code from above, but need to wrap it in a function that takes the current policy as an argument."
   ]
  },
  {
   "cell_type": "code",
   "execution_count": 29,
   "id": "e85a696d",
   "metadata": {},
   "outputs": [],
   "source": [
    "def policyEvaluation(policy):\n",
    "    # Initialize all values as 0\n",
    "    values = [0.0] * (MAX_MONEY + 1)\n",
    "\n",
    "    while True:\n",
    "        # Set delta to 0\n",
    "        delta = 0\n",
    "\n",
    "        # Update value function for each state\n",
    "        for s in STATES:\n",
    "            old_state_value = values[s]\n",
    "\n",
    "            # Get the action probabilities for the current state\n",
    "            action_probs = policy[s]\n",
    "            \n",
    "            # Compute expected reward and value of the next state\n",
    "            new_state_value = 0\n",
    "            for a in range(1, min(s, MAX_MONEY - s) + 1):\n",
    "                new_state_value += action_probs[a - 1] * evalAction(s, a, values)\n",
    "            values[s] = new_state_value\n",
    "\n",
    "            # Update delta\n",
    "            delta = max(delta, abs(old_state_value - values[s]))\n",
    "\n",
    "        # Break if the value function converged\n",
    "        if delta < THETA:\n",
    "            break\n",
    "\n",
    "    return values\n"
   ]
  },
  {
   "attachments": {},
   "cell_type": "markdown",
   "id": "977b91cc",
   "metadata": {},
   "source": [
    "Implement the policy improvement step as a function that takes the current value function as an argument and returns the new (greedy) policy.\n",
    "\n",
    "*Note: In this particular example, there are multiple optimal policies. Your results might look nicer if you break ties (or almost ties) in favor of lower stakes.*"
   ]
  },
  {
   "cell_type": "code",
   "execution_count": 30,
   "id": "5fa149a5",
   "metadata": {},
   "outputs": [],
   "source": [
    "def policyImprovement(values):\n",
    "    policy = []\n",
    "\n",
    "    for s in STATES:\n",
    "        # If we are in a terminal state, no actions are possible\n",
    "        if s == 0 or s == MAX_MONEY:\n",
    "            policy.append(tuple())\n",
    "            continue\n",
    "        \n",
    "        # Start with all 0 and add 1 to the best action\n",
    "        action_probs = [0.0] * min(s, MAX_MONEY - s)\n",
    "\n",
    "        # Compute the value of each action\n",
    "        possible_actions = range(1, min(s, MAX_MONEY - s) + 1)\n",
    "        action_values = [evalAction(s, a, values) for a in possible_actions]\n",
    "\n",
    "        # Set the index of the best action to 1\n",
    "        best_action_index = np.argmax(action_values)\n",
    "        action_probs[best_action_index] = 1\n",
    "\n",
    "        # Add the action probabilities to the policy\n",
    "        policy.append(action_probs)\n",
    "\n",
    "    return policy"
   ]
  },
  {
   "attachments": {},
   "cell_type": "markdown",
   "id": "299e5061",
   "metadata": {},
   "source": [
    "Implement policy iteration, using the functions you implemented above."
   ]
  },
  {
   "cell_type": "code",
   "execution_count": 31,
   "id": "80f4a857",
   "metadata": {},
   "outputs": [],
   "source": [
    "# Initialize policy\n",
    "\n",
    "# Use length `MAX_MONEY + 1` to include the terminal state\n",
    "det_policy = [min(1, s, MAX_MONEY - s) for s in STATES]\n",
    "\n",
    "policy = []\n",
    "\n",
    "for s in STATES:\n",
    "    if s == 0 or s == MAX_MONEY:\n",
    "        policy.append([])\n",
    "        continue\n",
    "    action_probs = [0.0] * min(s, MAX_MONEY - s)\n",
    "    action_probs[det_policy[s] - 1] = 1\n",
    "\n",
    "    policy.append(action_probs)\n",
    "\n",
    "# Initialize all values to 0\n",
    "values = np.zeros(MAX_MONEY + 1)"
   ]
  },
  {
   "cell_type": "code",
   "execution_count": 32,
   "id": "d2d9bfb8",
   "metadata": {},
   "outputs": [],
   "source": [
    "# Do policy iteration\n",
    "while True:\n",
    "    # Policy evaluation\n",
    "    values = policyEvaluation(policy)\n",
    "\n",
    "    # Policy improvement\n",
    "    new_policy = policyImprovement(values)\n",
    "\n",
    "    # Check if policy has changed\n",
    "    if new_policy == policy:\n",
    "        break\n",
    "\n",
    "    # Update policy\n",
    "    policy = new_policy\n",
    "    "
   ]
  },
  {
   "attachments": {},
   "cell_type": "markdown",
   "id": "260a694c",
   "metadata": {},
   "source": [
    "Plot the optimal value function and the optimal policy."
   ]
  },
  {
   "cell_type": "code",
   "execution_count": 33,
   "id": "b39053f3",
   "metadata": {},
   "outputs": [],
   "source": [
    "# Convert the random policy representation to a deterministic policy for plotting.\n",
    "# It would be cleaner to keep placeholders for the terminal states in the policy!\n",
    "det_policy = [np.argmax(action_probs) + 1 for action_probs in policy[1:-1]]"
   ]
  },
  {
   "cell_type": "code",
   "execution_count": 34,
   "id": "7a042edf",
   "metadata": {},
   "outputs": [
    {
     "data": {
      "image/png": "[encoded data removed]",
      "text/plain": [
       "<Figure size 640x480 with 1 Axes>"
      ]
     },
     "metadata": {},
     "output_type": "display_data"
    },
    {
     "data": {
      "image/png": "[encoded data removed]",
      "text/plain": [
       "<Figure size 640x480 with 1 Axes>"
      ]
     },
     "metadata": {},
     "output_type": "display_data"
    }
   ],
   "source": [
    "plt.figure()\n",
    "plt.plot(STATES[1:-1], values[1:-1])\n",
    "plt.title('Optimal value function')\n",
    "plt.xlabel('Capital')\n",
    "plt.ylabel('Value estimates')\n",
    "plt.show()\n",
    "\n",
    "plt.figure()\n",
    "plt.step(STATES[1:-1], det_policy)\n",
    "plt.title('(An) Optimal policy')\n",
    "plt.xlabel('Capital')\n",
    "plt.ylabel('Optimal policy')\n",
    "plt.show()"
   ]
  },
  {
   "attachments": {},
   "cell_type": "markdown",
   "id": "437ac65f",
   "metadata": {},
   "source": [
    "## 4. Value Iteration"
   ]
  },
  {
   "attachments": {},
   "cell_type": "markdown",
   "id": "d30453a2",
   "metadata": {},
   "source": [
    "In this section we compute the optimal policy and value function using value iteration.\n",
    "Again, we follow the pseudo-code from Sutton & Barto (p. 83)."
   ]
  },
  {
   "cell_type": "code",
   "execution_count": 35,
   "id": "f204e031",
   "metadata": {},
   "outputs": [],
   "source": [
    "# Initialize values\n",
    "\n",
    "# Loop:\n",
    "    # delta <- 0\n",
    "\n",
    "    # Loop for each s in S:\n",
    "        # v <- V(s)\n",
    "\n",
    "        # V(s) <- max_a sum_s' ...\n",
    "        # (this part might require multiple lines of code)\n",
    "\n",
    "        # delta <- max(delta, |v - V(s)|)\n",
    "\n",
    "    # until delta < THETA\n",
    "\n",
    "# Output a deterministic policy such that\n",
    "# policy[s] = argmax_a ...\n",
    "# (this part might require another loop over the states/actions)"
   ]
  },
  {
   "cell_type": "markdown",
   "id": "df0d3832",
   "metadata": {},
   "source": [
    "Plot the optimal value function and the optimal policy."
   ]
  },
  {
   "cell_type": "code",
   "execution_count": 36,
   "id": "d2fe4a2b",
   "metadata": {},
   "outputs": [],
   "source": [
    "## ...??"
   ]
  },
  {
   "cell_type": "markdown",
   "id": "a2df9502",
   "metadata": {},
   "source": [
    "### 4.a Bonus"
   ]
  },
  {
   "attachments": {},
   "cell_type": "markdown",
   "id": "5781f4fd",
   "metadata": {},
   "source": [
    "Find and plot *all* optimal policies."
   ]
  },
  {
   "cell_type": "code",
   "execution_count": 37,
   "id": "a7832e2a",
   "metadata": {},
   "outputs": [],
   "source": [
    "# Tolerance for \"equal\" values\n",
    "TOL_OPTIMAL = THETA\n",
    "\n",
    "\n",
    "# Initialize empty policy\n",
    "# This time, this will be a list of lists\n",
    "policy = []\n",
    "\n",
    "# Loop for each state\n",
    "for state in STATES:\n",
    "    # If we are in a terminal state, do nothing\n",
    "    if state == 0 or state == MAX_MONEY:\n",
    "        policy.append([])\n",
    "        continue\n",
    "\n",
    "    # Evaluate all actions\n",
    "    # ...??\n",
    "    \n",
    "    # Choose all optimal actions\n",
    "    # ...??\n",
    "\n",
    "    # Append best actions to policy\n",
    "    # ...??"
   ]
  },
  {
   "cell_type": "code",
   "execution_count": 38,
   "id": "149fd573",
   "metadata": {},
   "outputs": [],
   "source": [
    "# Create scatter plot with all optimal state/action pairs\n",
    "# ...?"
   ]
  },
  {
   "attachments": {},
   "cell_type": "markdown",
   "id": "e6f4eca8",
   "metadata": {},
   "source": [
    "### 4.b Bonus 2"
   ]
  },
  {
   "attachments": {},
   "cell_type": "markdown",
   "id": "36049ea4",
   "metadata": {},
   "source": [
    "Ideas for further exploration:\n",
    "- How does the set of *all* optimal policies behave for different values of `MAX_MONEY`? *Hint: Powers of 2 are particularly interesting!*\n",
    "- Change the code above to allow bets which would cause the player to have more than $100 after a win. Does this change the optimal policy?"
   ]
  }
 ],
 "metadata": {
  "kernelspec": {
   "display_name": ".venv",
   "language": "python",
   "name": "python3"
  },
  "language_info": {
   "codemirror_mode": {
    "name": "ipython",
    "version": 3
   },
   "file_extension": ".py",
   "mimetype": "text/x-python",
   "name": "python",
   "nbconvert_exporter": "python",
   "pygments_lexer": "ipython3",
   "version": "3.12.2"
  }
 },
 "nbformat": 4,
 "nbformat_minor": 5
}
